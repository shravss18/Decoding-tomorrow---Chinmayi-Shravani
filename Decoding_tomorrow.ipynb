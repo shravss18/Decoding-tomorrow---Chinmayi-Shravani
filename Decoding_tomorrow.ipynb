{
  "nbformat": 4,
  "nbformat_minor": 0,
  "metadata": {
    "colab": {
      "provenance": [],
      "authorship_tag": "ABX9TyOoWZQ5POYooZNXSTrHCDg4",
      "include_colab_link": true
    },
    "kernelspec": {
      "name": "python3",
      "display_name": "Python 3"
    },
    "language_info": {
      "name": "python"
    }
  },
  "cells": [
    {
      "cell_type": "markdown",
      "metadata": {
        "id": "view-in-github",
        "colab_type": "text"
      },
      "source": [
        "<a href=\"https://colab.research.google.com/github/shravss18/Decoding-tomorrow---Chinmayi-Shravani/blob/main/Decoding_tomorrow.ipynb\" target=\"_parent\"><img src=\"https://colab.research.google.com/assets/colab-badge.svg\" alt=\"Open In Colab\"/></a>"
      ]
    },
    {
      "cell_type": "code",
      "execution_count": null,
      "metadata": {
        "colab": {
          "base_uri": "https://localhost:8080/"
        },
        "id": "O5-_Y1o1c51o",
        "outputId": "c5b9b240-7f95-43e7-cb97-9eca4491b524"
      },
      "outputs": [
        {
          "output_type": "stream",
          "name": "stdout",
          "text": [
            "Hello world\n"
          ]
        }
      ],
      "source": [
        "print(\"Hello world\")\n"
      ]
    },
    {
      "cell_type": "code",
      "source": [
        "name=input('Enter name')\n",
        "print(\"My name is\",name)\n"
      ],
      "metadata": {
        "colab": {
          "base_uri": "https://localhost:8080/"
        },
        "id": "FLXv6LQxc-IM",
        "outputId": "d7da4faf-f5db-4028-bb9c-9a64befc39fa"
      },
      "execution_count": null,
      "outputs": [
        {
          "output_type": "stream",
          "name": "stdout",
          "text": [
            "Enter nametiger\n",
            "My name is tiger\n"
          ]
        }
      ]
    },
    {
      "cell_type": "code",
      "source": [
        "n=int(input('Enter your number'))\n"
      ],
      "metadata": {
        "colab": {
          "base_uri": "https://localhost:8080/"
        },
        "id": "VA0B6-dTeHAt",
        "outputId": "7e3534e7-d507-4a9a-e672-c68cb2e28224"
      },
      "execution_count": null,
      "outputs": [
        {
          "name": "stdout",
          "output_type": "stream",
          "text": [
            "Enter your number123456\n"
          ]
        }
      ]
    },
    {
      "cell_type": "code",
      "source": [
        "n=int(input('Enter your number'))\n",
        "if n%2==0:\n",
        "  print('It is even')\n",
        "else:\n",
        "  print('It is odd')"
      ],
      "metadata": {
        "colab": {
          "base_uri": "https://localhost:8080/"
        },
        "id": "OZqx1HECepy1",
        "outputId": "5d81b7ea-6e68-4a99-9b47-82d4e9598b9b"
      },
      "execution_count": null,
      "outputs": [
        {
          "output_type": "stream",
          "name": "stdout",
          "text": [
            "Enter your number45\n",
            "It is odd\n"
          ]
        }
      ]
    },
    {
      "cell_type": "code",
      "source": [
        "# print all the vowels in the input string #lists\n",
        "text=input(\"Enter the input: \")\n",
        "vowels=['a','e','i','o','u']\n",
        "for i in text:\n",
        "  if i in vowels:\n",
        "    print(i)\n",
        "\n"
      ],
      "metadata": {
        "colab": {
          "base_uri": "https://localhost:8080/"
        },
        "id": "UF-VJ_IifwQB",
        "outputId": "1a812477-f087-4a5c-8120-a8c0e5658a22"
      },
      "execution_count": null,
      "outputs": [
        {
          "output_type": "stream",
          "name": "stdout",
          "text": [
            "Enter the input: chinmayi\n",
            "i\n",
            "a\n",
            "i\n"
          ]
        }
      ]
    },
    {
      "cell_type": "code",
      "source": [
        "#dictionary\n",
        "l=[1,1,3,4,4,4,5,6,6,3,3,9,2,5,]\n",
        "d={}\n",
        "for i in l:\n",
        "  if i in d:\n",
        "    d[i]=d[i]+1\n",
        "  else:\n",
        "    d[i]=1\n",
        "print(d)"
      ],
      "metadata": {
        "colab": {
          "base_uri": "https://localhost:8080/"
        },
        "id": "tkeZgpTViagY",
        "outputId": "b6c37369-7398-49ea-9c0d-93c2e01d941a"
      },
      "execution_count": null,
      "outputs": [
        {
          "output_type": "stream",
          "name": "stdout",
          "text": [
            "{1: 2, 3: 3, 4: 3, 5: 2, 6: 2, 9: 1, 2: 1}\n"
          ]
        }
      ]
    },
    {
      "cell_type": "code",
      "source": [
        "str=\"betty bought some butter but the butter was bitter betty bought some better butter\"\n",
        "l=str.split(\" \")\n",
        "myset=set(l)\n",
        "print(myset)"
      ],
      "metadata": {
        "colab": {
          "base_uri": "https://localhost:8080/"
        },
        "id": "A59HgM0olY0U",
        "outputId": "9dbd6f38-1ed3-46cc-d8b1-8deb821dc7eb"
      },
      "execution_count": null,
      "outputs": [
        {
          "output_type": "stream",
          "name": "stdout",
          "text": [
            "{'some', 'but', 'better', 'betty', 'bought', 'bitter', 'butter', 'was', 'the'}\n"
          ]
        }
      ]
    },
    {
      "cell_type": "code",
      "source": [
        "# Homework #Question1\n",
        "\n",
        "text=input(\"Enter the name of Person 1: \")\n",
        "text=input(\"Enter the name of person 2: \")\n",
        "n1=int(input(\"Enter the age of person 1: \"))\n",
        "n2=int(input(\"Enter the age of person 2: \"))\n",
        "sum=int(n1)+int(n2)\n",
        "print(\"The sum of their ages is\",sum)\n"
      ],
      "metadata": {
        "id": "vJSw0Ri8oKSV",
        "colab": {
          "base_uri": "https://localhost:8080/"
        },
        "outputId": "01838c32-2ee7-4dc8-9fe5-65940a9e3f95"
      },
      "execution_count": null,
      "outputs": [
        {
          "output_type": "stream",
          "name": "stdout",
          "text": [
            "Enter the name of Person 1: Shylaja\n",
            "Enter the name of person 2: Rajeev\n",
            "Enter the age of person 1: 45\n",
            "Enter the age of person 2: 45\n",
            "The sum of their ages is 90\n"
          ]
        }
      ]
    },
    {
      "cell_type": "code",
      "source": [
        "#Question2\n",
        "a=int(input(\"Enter the first number: \"))\n",
        "b=int(input(\"Enter the second number: \"))\n",
        "c=int(input(\"Enter the third number: \"))\n",
        "mean=(int(a)+int(b)+int(c))/3\n",
        "print(\"The mean of three numbers is\",mean)"
      ],
      "metadata": {
        "colab": {
          "base_uri": "https://localhost:8080/"
        },
        "id": "ITjEl19Ovx61",
        "outputId": "94c94e25-3fba-4d58-dff6-fa1a817d1773"
      },
      "execution_count": null,
      "outputs": [
        {
          "output_type": "stream",
          "name": "stdout",
          "text": [
            "Enter the first number: 45\n",
            "Enter the second number: 26\n",
            "Enter the third number: 19\n",
            "The mean of three numbers is 30.0\n"
          ]
        }
      ]
    },
    {
      "cell_type": "code",
      "source": [
        "#Question3\n",
        "l=int(input(\"Enter the length of the rectangular box: \"))\n",
        "b=int(input(\"Enter the breadth of the rectangular box: \"))\n",
        "h=int(input(\"Enter the height of the rectangular box: \"))\n",
        "vol=int(l)*int(b)*int(h)\n",
        "print(\"The volume of the rectangular box is \",vol)"
      ],
      "metadata": {
        "colab": {
          "base_uri": "https://localhost:8080/"
        },
        "id": "5I-OfTgpwieK",
        "outputId": "f1048c2e-4722-43d0-c830-1a3085199fbb"
      },
      "execution_count": null,
      "outputs": [
        {
          "output_type": "stream",
          "name": "stdout",
          "text": [
            "Enter the length of the rectangular box: 15\n",
            "Enter the breadth of the rectangular box: 3\n",
            "Enter the height of the rectangular box: 10\n",
            "The volume of the rectangular box is  450\n"
          ]
        }
      ]
    },
    {
      "cell_type": "code",
      "source": [
        "#Question4\n"
      ],
      "metadata": {
        "id": "HdLVdveuyE_Q"
      },
      "execution_count": null,
      "outputs": []
    },
    {
      "cell_type": "code",
      "source": [
        "print(\"*\")\n",
        "print(\"* *\")\n",
        "print(\"* * *\")\n",
        "print(\"* * * *\")\n",
        "print(\"* * * * *\")\n"
      ],
      "metadata": {
        "colab": {
          "base_uri": "https://localhost:8080/"
        },
        "id": "rSsBP-g80ehK",
        "outputId": "5f24afb5-dcaf-42b8-bae0-628d56e308aa"
      },
      "execution_count": null,
      "outputs": [
        {
          "output_type": "stream",
          "name": "stdout",
          "text": [
            "*\n",
            "* *\n",
            "* * *\n",
            "* * * *\n",
            "* * * * *\n"
          ]
        }
      ]
    },
    {
      "cell_type": "code",
      "source": [
        "#Question5\n",
        "def calculate_hcf(a1,a2):\n",
        "   if a1>a2:\n",
        "    smaller=a2\n",
        "   else:\n",
        "    smaller=a1\n",
        "   for i in range(1,smaller+1):\n",
        "    if((a1%i==0)and(a2%i==0)):\n",
        "      hcf=i\n",
        "   return hcf\n",
        "\n",
        "   m=int(input(\"Enter the first number:\" ))\n",
        "   n=int(input(\"Enter the second numer:\" ))\n",
        "   print(\"The H.C.F of\",m,\"and\",n,\"is:\" ,calculate_hcf(m,n))\n"
      ],
      "metadata": {
        "id": "KMmdTF1f0vbp"
      },
      "execution_count": null,
      "outputs": []
    },
    {
      "cell_type": "code",
      "source": [
        "def calculate_hcf(a1,a2):\n",
        "   if a1>a2:\n",
        "    smaller=a2\n",
        "   else:\n",
        "    smaller=a1\n",
        "   for i in range(1,smaller+1):\n",
        "    if((a1%i==0)and(a2%i==0)):\n",
        "      hcf=i\n",
        "   return hcf\n",
        "   m=int(input(\"Enter the first number:\" ))\n",
        "   n=int(input(\"Enter the second numer:\" ))\n",
        "   print(\"The H.C.F of\",m,\"and\",n,\"is:\" ,calculate_hcf(m,n))\n"
      ],
      "metadata": {
        "id": "01TIswOG3RQ5"
      },
      "execution_count": null,
      "outputs": []
    },
    {
      "cell_type": "code",
      "source": [
        "#factorial\n",
        "def factorial(n):\n",
        "  if n==1:\n",
        "    return 1\n",
        "  else:\n",
        "    return n*factorial(n-1)\n",
        "print(factorial(5))"
      ],
      "metadata": {
        "colab": {
          "base_uri": "https://localhost:8080/"
        },
        "id": "gWpaWbrXs8sk",
        "outputId": "5afdb64f-f932-48f3-afe8-a8769b492c0a"
      },
      "execution_count": null,
      "outputs": [
        {
          "output_type": "stream",
          "name": "stdout",
          "text": [
            "120\n"
          ]
        }
      ]
    },
    {
      "cell_type": "code",
      "source": [
        "#factorial\n",
        "n=int(input(\"Enter the number: \"))\n",
        "print(\"The factorial of the number is\",factorial(n))"
      ],
      "metadata": {
        "colab": {
          "base_uri": "https://localhost:8080/"
        },
        "id": "9ynQ4vmxuSuH",
        "outputId": "e2ffe631-9015-4fa5-ece1-b2ad27f9ca64"
      },
      "execution_count": null,
      "outputs": [
        {
          "output_type": "stream",
          "name": "stdout",
          "text": [
            "Enter the number: 9\n",
            "The factorial of the number is 362880\n"
          ]
        }
      ]
    },
    {
      "cell_type": "code",
      "source": [
        "def calculate_hcf(a1,a2):\n",
        "   if a1>a2:\n",
        "    smaller=a2\n",
        "   else:\n",
        "    smaller=a1\n",
        "   for i in range(1,smaller+1):\n",
        "    if((a1%i==0)and(a2%i==0)):\n",
        "      hcf=i\n",
        "   return hcf"
      ],
      "metadata": {
        "id": "7ey9pifVuygF"
      },
      "execution_count": null,
      "outputs": []
    },
    {
      "cell_type": "code",
      "source": [
        "m1=int(input(\"Enter the first numer: \"))\n",
        "m2=int(input(\"Enter the second number: \"))\n",
        "print(\"The H.C.F of the two numbers is: \",calculate_hcf(m1,m2))"
      ],
      "metadata": {
        "colab": {
          "base_uri": "https://localhost:8080/"
        },
        "id": "qvPBxwHEvMJt",
        "outputId": "4aa32ea8-4dc6-4f8f-8d72-498b2b6bc973"
      },
      "execution_count": null,
      "outputs": [
        {
          "output_type": "stream",
          "name": "stdout",
          "text": [
            "Enter the first numer: 15\n",
            "Enter the second number: 10\n",
            "The H.C.F of the two numbers is:  5\n"
          ]
        }
      ]
    },
    {
      "cell_type": "code",
      "source": [],
      "metadata": {
        "id": "lmFJLij-vtR_"
      },
      "execution_count": null,
      "outputs": []
    }
  ]
}