{
  "nbformat": 4,
  "nbformat_minor": 0,
  "metadata": {
    "colab": {
      "provenance": [],
      "authorship_tag": "ABX9TyPmTtK5lbupuAyS+tudLn5I",
      "include_colab_link": true
    },
    "kernelspec": {
      "name": "python3",
      "display_name": "Python 3"
    },
    "language_info": {
      "name": "python"
    }
  },
  "cells": [
    {
      "cell_type": "markdown",
      "metadata": {
        "id": "view-in-github",
        "colab_type": "text"
      },
      "source": [
        "<a href=\"https://colab.research.google.com/github/shravss18/Decoding-tomorrow---Chinmayi-Shravani/blob/main/class1%20-%20python.ipynb\" target=\"_parent\"><img src=\"https://colab.research.google.com/assets/colab-badge.svg\" alt=\"Open In Colab\"/></a>"
      ]
    },
    {
      "cell_type": "code",
      "execution_count": 1,
      "metadata": {
        "colab": {
          "base_uri": "https://localhost:8080/"
        },
        "id": "O5-_Y1o1c51o",
        "outputId": "c5b9b240-7f95-43e7-cb97-9eca4491b524"
      },
      "outputs": [
        {
          "output_type": "stream",
          "name": "stdout",
          "text": [
            "Hello world\n"
          ]
        }
      ],
      "source": [
        "print(\"Hello world\")\n"
      ]
    },
    {
      "cell_type": "code",
      "source": [
        "name=input('Enter name')\n",
        "print(\"My name is\",name)\n"
      ],
      "metadata": {
        "colab": {
          "base_uri": "https://localhost:8080/"
        },
        "id": "FLXv6LQxc-IM",
        "outputId": "d7da4faf-f5db-4028-bb9c-9a64befc39fa"
      },
      "execution_count": 3,
      "outputs": [
        {
          "output_type": "stream",
          "name": "stdout",
          "text": [
            "Enter nametiger\n",
            "My name is tiger\n"
          ]
        }
      ]
    },
    {
      "cell_type": "code",
      "source": [
        "n=int(input('Enter your number'))\n"
      ],
      "metadata": {
        "colab": {
          "base_uri": "https://localhost:8080/"
        },
        "id": "VA0B6-dTeHAt",
        "outputId": "7e3534e7-d507-4a9a-e672-c68cb2e28224"
      },
      "execution_count": 5,
      "outputs": [
        {
          "name": "stdout",
          "output_type": "stream",
          "text": [
            "Enter your number123456\n"
          ]
        }
      ]
    },
    {
      "cell_type": "code",
      "source": [
        "n=int(input('Enter your number'))\n",
        "if n%2==0:\n",
        "  print('It is even')\n",
        "else:\n",
        "  print('It is odd')"
      ],
      "metadata": {
        "colab": {
          "base_uri": "https://localhost:8080/"
        },
        "id": "OZqx1HECepy1",
        "outputId": "5d81b7ea-6e68-4a99-9b47-82d4e9598b9b"
      },
      "execution_count": 8,
      "outputs": [
        {
          "output_type": "stream",
          "name": "stdout",
          "text": [
            "Enter your number45\n",
            "It is odd\n"
          ]
        }
      ]
    },
    {
      "cell_type": "code",
      "source": [
        "# print all the vowels in the input string #lists\n",
        "text=input(\"Enter the input: \")\n",
        "vowels=['a','e','i','o','u']\n",
        "for i in text:\n",
        "  if i in vowels:\n",
        "    print(i)\n",
        "\n"
      ],
      "metadata": {
        "colab": {
          "base_uri": "https://localhost:8080/"
        },
        "id": "UF-VJ_IifwQB",
        "outputId": "1a812477-f087-4a5c-8120-a8c0e5658a22"
      },
      "execution_count": 9,
      "outputs": [
        {
          "output_type": "stream",
          "name": "stdout",
          "text": [
            "Enter the input: chinmayi\n",
            "i\n",
            "a\n",
            "i\n"
          ]
        }
      ]
    },
    {
      "cell_type": "code",
      "source": [
        "#dictionary\n",
        "l=[1,1,3,4,4,4,5,6,6,3,3,9,2,5,]\n",
        "d={}\n",
        "for i in l:\n",
        "  if i in d:\n",
        "    d[i]=d[i]+1\n",
        "  else:\n",
        "    d[i]=1\n",
        "print(d)"
      ],
      "metadata": {
        "colab": {
          "base_uri": "https://localhost:8080/"
        },
        "id": "tkeZgpTViagY",
        "outputId": "b6c37369-7398-49ea-9c0d-93c2e01d941a"
      },
      "execution_count": 15,
      "outputs": [
        {
          "output_type": "stream",
          "name": "stdout",
          "text": [
            "{1: 2, 3: 3, 4: 3, 5: 2, 6: 2, 9: 1, 2: 1}\n"
          ]
        }
      ]
    },
    {
      "cell_type": "code",
      "source": [
        "str=\"betty bought some butter but the butter was bitter betty bought some better butter\"\n",
        "l=str.split(\" \")\n",
        "myset=set(l)\n",
        "print(myset)"
      ],
      "metadata": {
        "colab": {
          "base_uri": "https://localhost:8080/"
        },
        "id": "A59HgM0olY0U",
        "outputId": "9dbd6f38-1ed3-46cc-d8b1-8deb821dc7eb"
      },
      "execution_count": 17,
      "outputs": [
        {
          "output_type": "stream",
          "name": "stdout",
          "text": [
            "{'some', 'but', 'better', 'betty', 'bought', 'bitter', 'butter', 'was', 'the'}\n"
          ]
        }
      ]
    },
    {
      "cell_type": "code",
      "source": [],
      "metadata": {
        "id": "vJSw0Ri8oKSV"
      },
      "execution_count": null,
      "outputs": []
    }
  ]
}